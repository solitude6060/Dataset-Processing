{
 "cells": [
  {
   "cell_type": "code",
   "execution_count": 1,
   "metadata": {},
   "outputs": [],
   "source": [
    "import pandas as pd\n",
    "import numpy as np\n",
    "import seaborn as sns\n",
    "import random\n",
    "from datetime import datetime\n",
    "import pickle as pk"
   ]
  },
  {
   "cell_type": "code",
   "execution_count": 2,
   "metadata": {},
   "outputs": [],
   "source": [
    "ml_latest_path = \"../../dataset/ml-latest-small/\""
   ]
  },
  {
   "cell_type": "code",
   "execution_count": 3,
   "metadata": {},
   "outputs": [],
   "source": [
    "ratings_csv = ml_latest_path+'ratings.csv'\n",
    "movies_csv = ml_latest_path+'movies.csv'"
   ]
  },
  {
   "cell_type": "code",
   "execution_count": 4,
   "metadata": {},
   "outputs": [],
   "source": [
    "ratings_df = pd.read_csv(ratings_csv)\n",
    "movies_df = pd.read_csv(movies_csv)"
   ]
  },
  {
   "cell_type": "code",
   "execution_count": 5,
   "metadata": {},
   "outputs": [],
   "source": [
    "NUMBER_USER = ratings_df.loc[ratings_df['userId'].idxmax()]['userId'] # 610"
   ]
  },
  {
   "cell_type": "code",
   "execution_count": 6,
   "metadata": {},
   "outputs": [],
   "source": [
    "#ratings_df"
   ]
  },
  {
   "cell_type": "code",
   "execution_count": 7,
   "metadata": {},
   "outputs": [],
   "source": [
    "#input df and output two processed data(1 : pair with timestamp, 2 : dictionary)\n",
    "\n",
    "def getSession_with_timestamp(ratings_df):\n",
    "    training_pair_list = []\n",
    "    user_session_dict = {}\n",
    "    for index, row in ratings_df.iterrows():\n",
    "        training_pair_list.append((int(row.userId), int(row.movieId), int(row.timestamp)))\n",
    "        userId = int(row.userId)\n",
    "        if userId not in user_session_dict:\n",
    "            user_session_dict[userId] = []\n",
    "            user_session_dict[userId].append(int(row.movieId))\n",
    "        else:\n",
    "            user_session_dict[userId].append(int(row.movieId))\n",
    "    \n",
    "    return training_pair_list, user_session_dict"
   ]
  },
  {
   "cell_type": "code",
   "execution_count": 8,
   "metadata": {},
   "outputs": [],
   "source": [
    "training_pair_list, user_session_dict = getSession_with_timestamp(ratings_df)"
   ]
  },
  {
   "cell_type": "code",
   "execution_count": 9,
   "metadata": {},
   "outputs": [],
   "source": [
    "#training_pair_list # user, item, time"
   ]
  },
  {
   "cell_type": "code",
   "execution_count": 10,
   "metadata": {},
   "outputs": [],
   "source": [
    "#user_session_dict[1] # {user : [items]}"
   ]
  },
  {
   "cell_type": "code",
   "execution_count": 11,
   "metadata": {},
   "outputs": [],
   "source": [
    "# for userId, item_list in user_session_dict.items():\n",
    "#     print(userId, item_list)\n",
    "#     break\n",
    "    "
   ]
  },
  {
   "cell_type": "code",
   "execution_count": 12,
   "metadata": {},
   "outputs": [
    {
     "data": {
      "text/plain": [
       "'Adventure|Animation|Children|Comedy|Fantasy'"
      ]
     },
     "execution_count": 12,
     "metadata": {},
     "output_type": "execute_result"
    }
   ],
   "source": [
    "movies_df.loc[movies_df.movieId == 1].genres.item()"
   ]
  },
  {
   "cell_type": "code",
   "execution_count": 13,
   "metadata": {},
   "outputs": [],
   "source": [
    "def genresParser(genres_str):\n",
    "    return genres_str.split('|')"
   ]
  },
  {
   "cell_type": "code",
   "execution_count": 14,
   "metadata": {},
   "outputs": [
    {
     "data": {
      "text/plain": [
       "['Comedy']"
      ]
     },
     "execution_count": 14,
     "metadata": {},
     "output_type": "execute_result"
    }
   ],
   "source": [
    "genresParser('Comedy')"
   ]
  },
  {
   "cell_type": "code",
   "execution_count": 15,
   "metadata": {},
   "outputs": [],
   "source": [
    "def get_user_genres_distribution(user_session_dict, movies_df):\n",
    "    user_genres_dict = {}\n",
    "    genres_dict = {}\n",
    "    max_genres = 0\n",
    "    all_genres = []\n",
    "    for userId, item_list in user_session_dict.items():\n",
    "        #user_session_len = len(item_list)\n",
    "        #print(userId, item_list)\n",
    "        \n",
    "        item_sum = 0\n",
    "        for item in item_list:\n",
    "            #print(item)\n",
    "            genres = movies_df.loc[movies_df.movieId == item].genres.item()\n",
    "            genres_list = genresParser(genres)\n",
    "            \n",
    "            for g in genres_list:\n",
    "                if g not in all_genres:\n",
    "                    all_genres.append(g)\n",
    "                item_sum += 1\n",
    "                if g not in genres_dict.keys():\n",
    "                    genres_dict[g] = 1\n",
    "                else:\n",
    "                    genres_dict[g] += 1\n",
    "        if len(genres_dict) > max_genres:\n",
    "            max_genres = len(genres_dict)\n",
    "            \n",
    "        div_genres_dict = {k: v/item_sum for k,v in genres_dict.items()}\n",
    "        user_genres_dict[userId] = div_genres_dict\n",
    "        genres_dict = {}\n",
    "    \n",
    "    #print(max_genres)\n",
    "    \n",
    "    return user_genres_dict, all_genres"
   ]
  },
  {
   "cell_type": "code",
   "execution_count": 16,
   "metadata": {},
   "outputs": [],
   "source": [
    "user_genres_distri_dict, all_genres = get_user_genres_distribution(user_session_dict, movies_df)"
   ]
  },
  {
   "cell_type": "code",
   "execution_count": 17,
   "metadata": {},
   "outputs": [],
   "source": [
    "def set_user_all_genres_distribution(user_genres_distri_dict, all_genres):\n",
    "    \n",
    "    for user in user_genres_distri_dict:\n",
    "        if len(user_genres_distri_dict[user]) == 20:\n",
    "            #user_genres_distri_dict[user].sort()\n",
    "            print(user)\n",
    "            continue\n",
    "        else:\n",
    "            missing_genres_list =  list(set(all_genres) - set(user_genres_distri_dict[user].keys()))\n",
    "            missing_num = len(missing_genres_list)\n",
    "            proportion = 1 - 0.005*missing_num\n",
    "            user_genres_distri_dict[user] = {k : v*proportion for k, v in user_genres_distri_dict[user].items()}\n",
    "            for g in missing_genres_list:\n",
    "                user_genres_distri_dict[user][g] = 0.005\n",
    "            \n",
    "#             print(user)\n",
    "#             print(len(user_genres_distri_dict[user]))\n",
    "            "
   ]
  },
  {
   "cell_type": "code",
   "execution_count": 18,
   "metadata": {},
   "outputs": [
    {
     "name": "stdout",
     "output_type": "stream",
     "text": [
      "50\n",
      "105\n",
      "125\n",
      "318\n",
      "380\n",
      "414\n",
      "448\n",
      "514\n",
      "517\n",
      "525\n",
      "560\n",
      "567\n",
      "596\n",
      "599\n"
     ]
    }
   ],
   "source": [
    "set_user_all_genres_distribution(user_genres_distri_dict, all_genres)"
   ]
  },
  {
   "cell_type": "code",
   "execution_count": 19,
   "metadata": {},
   "outputs": [],
   "source": [
    "#user_genres_distri_dict"
   ]
  },
  {
   "cell_type": "code",
   "execution_count": 20,
   "metadata": {},
   "outputs": [],
   "source": [
    "def dict_dict_to_df(user_genres_distri_dict, all_genres):\n",
    "    df_dict = {}\n",
    "    for user in user_genres_distri_dict:\n",
    "        # user col\n",
    "        if 'user' not in df_dict.keys():\n",
    "            df_dict['user'] = [user]\n",
    "        else:\n",
    "            df_dict['user'].append(user)\n",
    "            \n",
    "        # genres col\n",
    "        for genres in all_genres:\n",
    "            if genres not in df_dict.keys():\n",
    "                df_dict[genres] = [user_genres_distri_dict[user][genres]]\n",
    "            else:\n",
    "                df_dict[genres].append(user_genres_distri_dict[user][genres])\n",
    "                \n",
    "    user_genres_df = pd.DataFrame.from_dict(df_dict)\n",
    "    return user_genres_df"
   ]
  },
  {
   "cell_type": "code",
   "execution_count": 21,
   "metadata": {},
   "outputs": [],
   "source": [
    "user_genres_df = dict_dict_to_df(user_genres_distri_dict, all_genres)"
   ]
  },
  {
   "cell_type": "code",
   "execution_count": 22,
   "metadata": {},
   "outputs": [],
   "source": [
    "user_genres_df.to_csv('./processed_data/user_genres_df.csv')"
   ]
  },
  {
   "cell_type": "code",
   "execution_count": 23,
   "metadata": {},
   "outputs": [],
   "source": [
    "#user_genres_df"
   ]
  },
  {
   "cell_type": "code",
   "execution_count": 24,
   "metadata": {},
   "outputs": [
    {
     "data": {
      "text/plain": [
       "['Adventure',\n",
       " 'Animation',\n",
       " 'Children',\n",
       " 'Comedy',\n",
       " 'Fantasy',\n",
       " 'Romance',\n",
       " 'Action',\n",
       " 'Crime',\n",
       " 'Thriller',\n",
       " 'Mystery',\n",
       " 'Horror',\n",
       " 'Drama',\n",
       " 'War',\n",
       " 'Western',\n",
       " 'Sci-Fi',\n",
       " 'Musical',\n",
       " 'Film-Noir',\n",
       " 'IMAX',\n",
       " 'Documentary',\n",
       " '(no genres listed)']"
      ]
     },
     "execution_count": 24,
     "metadata": {},
     "output_type": "execute_result"
    }
   ],
   "source": [
    "all_genres"
   ]
  },
  {
   "cell_type": "code",
   "execution_count": 25,
   "metadata": {},
   "outputs": [
    {
     "data": {
      "text/plain": [
       "34"
      ]
     },
     "execution_count": 25,
     "metadata": {},
     "output_type": "execute_result"
    }
   ],
   "source": [
    "len(movies_df.loc[movies_df.genres == '(no genres listed)'])"
   ]
  },
  {
   "cell_type": "code",
   "execution_count": 26,
   "metadata": {},
   "outputs": [
    {
     "data": {
      "text/plain": [
       "['Adventure', 'Animation', 'Children', 'Comedy', 'Fantasy']"
      ]
     },
     "execution_count": 26,
     "metadata": {},
     "output_type": "execute_result"
    }
   ],
   "source": [
    "movies_df[movies_df.movieId == 1].genres.item().split('|')"
   ]
  },
  {
   "cell_type": "code",
   "execution_count": 27,
   "metadata": {},
   "outputs": [],
   "source": [
    "all_items = movies_df['movieId'].tolist()"
   ]
  },
  {
   "cell_type": "code",
   "execution_count": 28,
   "metadata": {},
   "outputs": [
    {
     "data": {
      "text/plain": [
       "5060"
      ]
     },
     "execution_count": 28,
     "metadata": {},
     "output_type": "execute_result"
    }
   ],
   "source": [
    "user_session_dict[1][-1]"
   ]
  },
  {
   "cell_type": "code",
   "execution_count": 29,
   "metadata": {},
   "outputs": [],
   "source": [
    "def random_sampling(all_items, user_session_dict):\n",
    "    training_data = []\n",
    "    neg_list = []\n",
    "    testing_data = {}\n",
    "    testing_items = []\n",
    "    \n",
    "    for uid in user_session_dict:\n",
    "        user_session = user_session_dict[uid]\n",
    "        neg_item_list = set(all_items) - set(user_session)\n",
    "        testing_item = user_session[-1]\n",
    "        testing_items.append(testing_item) # keep for weighted sampling\n",
    "        \n",
    "        \n",
    "        for pos_item in user_session[:-1]:\n",
    "            neg_list = random.sample(neg_item_list, 4)\n",
    "            for neg_item in neg_list:\n",
    "                training_data.append((uid, pos_item, neg_item))\n",
    "        \n",
    "        testing_list = []\n",
    "        test_neg_list = random.sample(neg_item_list, 99)\n",
    "        for neg_test in test_neg_list:\n",
    "            testing_list.append((uid, testing_item, neg_test))\n",
    "        testing_data[uid] = testing_list\n",
    "        \n",
    "    return training_data, testing_data, testing_items"
   ]
  },
  {
   "cell_type": "code",
   "execution_count": 30,
   "metadata": {},
   "outputs": [],
   "source": [
    "random_training_data, testing_data, testing_items = random_sampling(all_items, user_session_dict)"
   ]
  },
  {
   "cell_type": "code",
   "execution_count": 31,
   "metadata": {},
   "outputs": [
    {
     "data": {
      "text/plain": [
       "4006"
      ]
     },
     "execution_count": 31,
     "metadata": {},
     "output_type": "execute_result"
    }
   ],
   "source": [
    "movies_df.movieId.to_dict()[2991]"
   ]
  },
  {
   "cell_type": "code",
   "execution_count": 32,
   "metadata": {},
   "outputs": [],
   "source": [
    "item_look_up_table = {v: k for k, v in movies_df.movieId.to_dict().items()}\n"
   ]
  },
  {
   "cell_type": "code",
   "execution_count": 33,
   "metadata": {},
   "outputs": [],
   "source": [
    "temp_list = []\n",
    "for tr in random_training_data:\n",
    "    temp_list.append((tr[0], item_look_up_table[tr[1]], item_look_up_table[tr[2]]))\n",
    "random_training_data = temp_list\n"
   ]
  },
  {
   "cell_type": "code",
   "execution_count": 34,
   "metadata": {},
   "outputs": [],
   "source": [
    "temp_dict = {}\n",
    "for user in testing_data:\n",
    "    #print(user)\n",
    "    temp_list = []\n",
    "    for t in testing_data[user]:\n",
    "        temp_list.append((t[0], item_look_up_table[t[1]], item_look_up_table[t[2]]))\n",
    "    temp_dict[user] = temp_list\n",
    "    temp_list = []\n",
    "\n",
    "testing_data = temp_dict"
   ]
  },
  {
   "cell_type": "code",
   "execution_count": 35,
   "metadata": {},
   "outputs": [],
   "source": [
    "#random_training_data"
   ]
  },
  {
   "cell_type": "code",
   "execution_count": 36,
   "metadata": {},
   "outputs": [],
   "source": [
    "#testing_data[1]"
   ]
  },
  {
   "cell_type": "code",
   "execution_count": 37,
   "metadata": {},
   "outputs": [
    {
     "data": {
      "text/plain": [
       "610"
      ]
     },
     "execution_count": 37,
     "metadata": {},
     "output_type": "execute_result"
    }
   ],
   "source": [
    "len(testing_items)"
   ]
  },
  {
   "cell_type": "code",
   "execution_count": 38,
   "metadata": {},
   "outputs": [
    {
     "name": "stdout",
     "output_type": "stream",
     "text": [
      "20190919_175344\n"
     ]
    }
   ],
   "source": [
    "time = datetime.now().strftime('%Y%m%d_%H%M%S')\n",
    "print(time)"
   ]
  },
  {
   "cell_type": "code",
   "execution_count": 39,
   "metadata": {},
   "outputs": [],
   "source": [
    "with open('./processed_data/ml_latest_'+time+'_random_training'+'.pkl', 'wb') as f:\n",
    "    pk.dump(random_training_data, f)\n",
    "    \n",
    "with open('./processed_data/ml_latest_'+time+'_testing'+'.pkl', 'wb') as f:\n",
    "    pk.dump(testing_data, f)"
   ]
  },
  {
   "cell_type": "code",
   "execution_count": 40,
   "metadata": {},
   "outputs": [],
   "source": [
    "def get_genres_item_list(movies_df):\n",
    "    \n",
    "    genres_item_dict = {}\n",
    "    all_items = movies_df['movieId'].tolist()\n",
    "    \n",
    "    for item in all_items:\n",
    "        item_genres_list = movies_df[movies_df.movieId == item].genres.item().split('|')\n",
    "        for item_genres in item_genres_list:\n",
    "            if item_genres not in genres_item_dict.keys():\n",
    "                genres_item_dict[item_genres] = [item]\n",
    "            else:\n",
    "                 genres_item_dict[item_genres].append(item)\n",
    "    \n",
    "    return genres_item_dict"
   ]
  },
  {
   "cell_type": "code",
   "execution_count": 41,
   "metadata": {},
   "outputs": [],
   "source": [
    "genres_item_dict = get_genres_item_list(movies_df)"
   ]
  },
  {
   "cell_type": "code",
   "execution_count": 42,
   "metadata": {},
   "outputs": [
    {
     "data": {
      "text/plain": [
       "{'(no genres listed)': 0.005,\n",
       " 'Action': 0.14226666666666665,\n",
       " 'Adventure': 0.0388,\n",
       " 'Animation': 0.005,\n",
       " 'Children': 0.005,\n",
       " 'Comedy': 0.09053333333333334,\n",
       " 'Crime': 0.12933333333333333,\n",
       " 'Documentary': 0.0388,\n",
       " 'Drama': 0.21986666666666665,\n",
       " 'Fantasy': 0.005,\n",
       " 'Film-Noir': 0.005,\n",
       " 'Horror': 0.012933333333333333,\n",
       " 'IMAX': 0.05173333333333333,\n",
       " 'Musical': 0.005,\n",
       " 'Mystery': 0.025866666666666666,\n",
       " 'Romance': 0.012933333333333333,\n",
       " 'Sci-Fi': 0.05173333333333333,\n",
       " 'Thriller': 0.12933333333333333,\n",
       " 'War': 0.012933333333333333,\n",
       " 'Western': 0.012933333333333333,\n",
       " 'user': 2.0}"
      ]
     },
     "execution_count": 42,
     "metadata": {},
     "output_type": "execute_result"
    }
   ],
   "source": [
    "user_genres_df.to_dict('records')[1]"
   ]
  },
  {
   "cell_type": "code",
   "execution_count": 43,
   "metadata": {},
   "outputs": [],
   "source": [
    "#user_genres_df.to_dict('records')"
   ]
  },
  {
   "cell_type": "code",
   "execution_count": 44,
   "metadata": {},
   "outputs": [],
   "source": [
    "def get_distribution(all_genres, user_genres_df):\n",
    "    user_distribution_list = []\n",
    "    distribution_list = []\n",
    "    for user_genres_distri_dict in user_genres_df.to_dict('records'):\n",
    "        for g in all_genres:\n",
    "            distribution_list.append(user_genres_distri_dict[g])\n",
    "        user_distribution_list.append(distribution_list)\n",
    "        distribution_list = []\n",
    "    \n",
    "    return user_distribution_list"
   ]
  },
  {
   "cell_type": "code",
   "execution_count": 45,
   "metadata": {},
   "outputs": [],
   "source": [
    "user_distribution_list = get_distribution(all_genres, user_genres_df)"
   ]
  },
  {
   "cell_type": "code",
   "execution_count": 46,
   "metadata": {
    "scrolled": true
   },
   "outputs": [
    {
     "name": "stdout",
     "output_type": "stream",
     "text": [
      "Adventure, 0.0388\n",
      "Animation, 0.005\n",
      "Children, 0.005\n",
      "Comedy, 0.09053333333333334\n",
      "Fantasy, 0.005\n",
      "Romance, 0.012933333333333333\n",
      "Action, 0.14226666666666665\n",
      "Crime, 0.12933333333333333\n",
      "Thriller, 0.12933333333333333\n",
      "Mystery, 0.025866666666666666\n",
      "Horror, 0.012933333333333333\n",
      "Drama, 0.21986666666666665\n",
      "War, 0.012933333333333333\n",
      "Western, 0.012933333333333333\n",
      "Sci-Fi, 0.05173333333333333\n",
      "Musical, 0.005\n",
      "Film-Noir, 0.005\n",
      "IMAX, 0.05173333333333333\n",
      "Documentary, 0.0388\n",
      "(no genres listed), 0.005\n"
     ]
    }
   ],
   "source": [
    "for g in range(len(all_genres)):\n",
    "    print(all_genres[g], end=', ')\n",
    "    print(user_distribution_list[1][g])\n"
   ]
  },
  {
   "cell_type": "code",
   "execution_count": 47,
   "metadata": {},
   "outputs": [
    {
     "data": {
      "text/plain": [
       "610"
      ]
     },
     "execution_count": 47,
     "metadata": {},
     "output_type": "execute_result"
    }
   ],
   "source": [
    "len(user_distribution_list)"
   ]
  },
  {
   "cell_type": "code",
   "execution_count": 48,
   "metadata": {},
   "outputs": [
    {
     "data": {
      "text/plain": [
       "['Thriller', 'IMAX', 'Crime', 'Thriller']"
      ]
     },
     "execution_count": 48,
     "metadata": {},
     "output_type": "execute_result"
    }
   ],
   "source": [
    "t = np.random.choice(all_genres, 4, p=user_distribution_list[1])\n",
    "list(t)"
   ]
  },
  {
   "cell_type": "code",
   "execution_count": 49,
   "metadata": {},
   "outputs": [],
   "source": [
    "# not with epsilon greedy policy\n",
    "def topic_weighted_sampling(user_distribution_list, genres_item_dict, all_genres, user_session_dict, testing_items):\n",
    "    training_data = []\n",
    "    topic_testing_data = {}\n",
    "    \n",
    "    for uid in user_session_dict:\n",
    "        user_session = user_session_dict[uid]\n",
    "        dis_id = uid - 1\n",
    "        distribution = user_distribution_list[dis_id]\n",
    "        testing_item = testing_items[dis_id]\n",
    "        \n",
    "        #training\n",
    "        for positive in user_session:\n",
    "            if positive is testing_item:\n",
    "                continue\n",
    "        \n",
    "            genres_choice_with_weight = list(np.random.choice(all_genres, 4, p=distribution))\n",
    "    \n",
    "            neg_list = []\n",
    "            for genres in genres_choice_with_weight:\n",
    "                genres_item_list = genres_item_dict[genres]\n",
    "                sampled_item = random.sample(genres_item_list, 1)\n",
    "                while sampled_item[0] in neg_list or sampled_item[0] in user_session_dict:\n",
    "                    sampled_item = random.sample(genres_item_list, 1)\n",
    "                neg_list.append(sampled_item[0])\n",
    "        \n",
    "            for neg in neg_list:\n",
    "                training_data.append((uid, positive, neg))\n",
    "        \n",
    "        #testing\n",
    "        testing_choice_with_weight = list(np.random.choice(all_genres, 99, p=distribution))\n",
    "        neg_test_list = []\n",
    "        for genres in testing_choice_with_weight:\n",
    "            genres_item_list = genres_item_dict[genres]\n",
    "            sampled_item = random.sample(genres_item_list, 1)\n",
    "            while sampled_item[0] in neg_test_list or sampled_item[0] in user_session_dict:\n",
    "                sampled_item = random.sample(genres_item_list, 1)\n",
    "            neg_test_list.append(sampled_item[0])\n",
    "        neg_test_list.append(testing_item)\n",
    "        topic_testing_data[uid] = neg_test_list\n",
    "    \n",
    "    return training_data, topic_testing_data"
   ]
  },
  {
   "cell_type": "code",
   "execution_count": 50,
   "metadata": {},
   "outputs": [],
   "source": [
    "# not with epsilon greedy policy\n",
    "def topic_reverse_weighted_sampling(user_distribution_list, genres_item_dict, all_genres, user_session_dict, testing_items):\n",
    "    training_data = []\n",
    "    topic_testing_data = {}\n",
    "        \n",
    "    for uid in user_session_dict:\n",
    "        user_session = user_session_dict[uid]\n",
    "        dis_id = uid - 1\n",
    "        distribution = user_distribution_list[dis_id]\n",
    "        tmp_dis_list = [1-x for x in distribution]\n",
    "        sum_re_dis = sum(tmp_dis_list)\n",
    "        re_distribution = [x/sum_re_dis for x in tmp_dis_list]\n",
    "        testing_item = testing_items[dis_id]\n",
    "        \n",
    "        for positive in user_session:\n",
    "            if positive is testing_item:\n",
    "                continue\n",
    "        \n",
    "            genres_choice_with_weight = list(np.random.choice(all_genres, 4, p=re_distribution))\n",
    "            neg_list = []\n",
    "            for genres in genres_choice_with_weight:\n",
    "                genres_item_list = genres_item_dict[genres]\n",
    "                sampled_item = random.sample(genres_item_list, 1)\n",
    "                while sampled_item[0] in neg_list or sampled_item[0] in user_session_dict:\n",
    "                    sampled_item = random.sample(genres_item_list, 1)\n",
    "                neg_list.append(sampled_item[0])\n",
    "        \n",
    "            for neg in neg_list:\n",
    "                training_data.append((uid, positive, neg))\n",
    "    \n",
    "        \n",
    "        #testing\n",
    "        testing_choice_with_weight = list(np.random.choice(all_genres, 99, p=re_distribution))\n",
    "        neg_test_list = []\n",
    "        for genres in testing_choice_with_weight:\n",
    "            genres_item_list = genres_item_dict[genres]\n",
    "            sampled_item = random.sample(genres_item_list, 1)\n",
    "            while sampled_item[0] in neg_test_list or sampled_item[0] in user_session_dict:\n",
    "                sampled_item = random.sample(genres_item_list, 1)\n",
    "            neg_test_list.append(sampled_item[0])\n",
    "        neg_test_list.append(testing_item)\n",
    "        topic_testing_data[uid] = neg_test_list\n",
    "    \n",
    "    return training_data, topic_testing_data"
   ]
  },
  {
   "cell_type": "code",
   "execution_count": 51,
   "metadata": {},
   "outputs": [],
   "source": [
    "#def topic_test_sampling(user_distribution_list, genres_item_dict, testing_items, )"
   ]
  },
  {
   "cell_type": "code",
   "execution_count": 52,
   "metadata": {},
   "outputs": [],
   "source": [
    "topic_reverse_weighted_training_data, topic_reverse_testing_data = topic_reverse_weighted_sampling(user_distribution_list, genres_item_dict, all_genres, user_session_dict, testing_items)\n"
   ]
  },
  {
   "cell_type": "code",
   "execution_count": 53,
   "metadata": {},
   "outputs": [],
   "source": [
    "#topic_reverse_weighted_training_data"
   ]
  },
  {
   "cell_type": "code",
   "execution_count": 54,
   "metadata": {},
   "outputs": [
    {
     "data": {
      "text/plain": [
       "100"
      ]
     },
     "execution_count": 54,
     "metadata": {},
     "output_type": "execute_result"
    }
   ],
   "source": [
    "len(topic_reverse_testing_data[1])"
   ]
  },
  {
   "cell_type": "code",
   "execution_count": 55,
   "metadata": {},
   "outputs": [],
   "source": [
    "topic_weighted_training_data, topic_testing_data = topic_weighted_sampling(user_distribution_list, genres_item_dict, all_genres, user_session_dict, testing_items)"
   ]
  },
  {
   "cell_type": "code",
   "execution_count": 56,
   "metadata": {},
   "outputs": [
    {
     "data": {
      "text/plain": [
       "[(1, 1, 8015),\n",
       " (1, 1, 1717),\n",
       " (1, 1, 69134),\n",
       " (1, 1, 45517),\n",
       " (1, 3, 62155),\n",
       " (1, 3, 69453),\n",
       " (1, 3, 7216),\n",
       " (1, 3, 122926),\n",
       " (1, 6, 3810),\n",
       " (1, 6, 4329),\n",
       " (1, 6, 5675),\n",
       " (1, 6, 4578),\n",
       " (1, 47, 1256),\n",
       " (1, 47, 35347),\n",
       " (1, 47, 3430),\n",
       " (1, 47, 818),\n",
       " (1, 50, 2048),\n",
       " (1, 50, 91485),\n",
       " (1, 50, 2394),\n",
       " (1, 50, 117922),\n",
       " (1, 70, 1405),\n",
       " (1, 70, 141544),\n",
       " (1, 70, 113453),\n",
       " (1, 70, 170957),\n",
       " (1, 101, 5630),\n",
       " (1, 101, 166635),\n",
       " (1, 101, 52973),\n",
       " (1, 101, 4804),\n",
       " (1, 110, 1592),\n",
       " (1, 110, 3764),\n",
       " (1, 110, 108090),\n",
       " (1, 110, 88267),\n",
       " (1, 151, 59615),\n",
       " (1, 151, 106489),\n",
       " (1, 151, 65514),\n",
       " (1, 151, 143031),\n",
       " (1, 157, 1251),\n",
       " (1, 157, 59016),\n",
       " (1, 157, 3910),\n",
       " (1, 157, 106883),\n",
       " (1, 163, 5094),\n",
       " (1, 163, 848),\n",
       " (1, 163, 4459),\n",
       " (1, 163, 84637),\n",
       " (1, 216, 3406),\n",
       " (1, 216, 2260),\n",
       " (1, 216, 51927),\n",
       " (1, 216, 8487),\n",
       " (1, 223, 4874),\n",
       " (1, 223, 2741),\n",
       " (1, 223, 7767),\n",
       " (1, 223, 72601),\n",
       " (1, 231, 4774),\n",
       " (1, 231, 8965),\n",
       " (1, 231, 170827),\n",
       " (1, 231, 7820),\n",
       " (1, 235, 95473),\n",
       " (1, 235, 2153),\n",
       " (1, 235, 2531),\n",
       " (1, 235, 133802),\n",
       " (1, 260, 667),\n",
       " (1, 260, 88356),\n",
       " (1, 260, 4306),\n",
       " (1, 260, 3526),\n",
       " (1, 296, 174053),\n",
       " (1, 296, 27595),\n",
       " (1, 296, 4580),\n",
       " (1, 296, 41014),\n",
       " (1, 316, 8235),\n",
       " (1, 316, 169984),\n",
       " (1, 316, 40278),\n",
       " (1, 316, 139859),\n",
       " (1, 333, 93766),\n",
       " (1, 333, 68848),\n",
       " (1, 333, 1270),\n",
       " (1, 333, 4634),\n",
       " (1, 349, 132796),\n",
       " (1, 349, 27790),\n",
       " (1, 349, 3673),\n",
       " (1, 349, 44243),\n",
       " (1, 356, 2183),\n",
       " (1, 356, 3728),\n",
       " (1, 356, 8711),\n",
       " (1, 356, 4621),\n",
       " (1, 362, 6093),\n",
       " (1, 362, 3034),\n",
       " (1, 362, 3342),\n",
       " (1, 362, 95473),\n",
       " (1, 367, 31921),\n",
       " (1, 367, 52241),\n",
       " (1, 367, 103137),\n",
       " (1, 367, 167538),\n",
       " (1, 423, 4831),\n",
       " (1, 423, 3082),\n",
       " (1, 423, 122926),\n",
       " (1, 423, 2105),\n",
       " (1, 441, 60894),\n",
       " (1, 441, 59103),\n",
       " (1, 441, 143365),\n",
       " (1, 441, 4681),\n",
       " (1, 457, 7482),\n",
       " (1, 457, 5111),\n",
       " (1, 457, 44849),\n",
       " (1, 457, 5899),\n",
       " (1, 480, 7584),\n",
       " (1, 480, 3927),\n",
       " (1, 480, 5365),\n",
       " (1, 480, 6713),\n",
       " (1, 500, 65982),\n",
       " (1, 500, 5459),\n",
       " (1, 500, 5389),\n",
       " (1, 500, 1717),\n",
       " (1, 527, 7364),\n",
       " (1, 527, 26741),\n",
       " (1, 527, 1711),\n",
       " (1, 527, 105835),\n",
       " (1, 543, 2412),\n",
       " (1, 543, 5883),\n",
       " (1, 543, 48744),\n",
       " (1, 543, 84772),\n",
       " (1, 552, 8341),\n",
       " (1, 552, 1342),\n",
       " (1, 552, 5446),\n",
       " (1, 552, 54686),\n",
       " (1, 553, 1967),\n",
       " (1, 553, 56003),\n",
       " (1, 553, 31150),\n",
       " (1, 553, 121097),\n",
       " (1, 590, 141131),\n",
       " (1, 590, 164226),\n",
       " (1, 590, 70533),\n",
       " (1, 590, 2784),\n",
       " (1, 592, 26630),\n",
       " (1, 592, 2700),\n",
       " (1, 592, 35836),\n",
       " (1, 592, 6212),\n",
       " (1, 593, 2016),\n",
       " (1, 593, 113345),\n",
       " (1, 593, 166534),\n",
       " (1, 593, 113374),\n",
       " (1, 596, 79139),\n",
       " (1, 596, 5882),\n",
       " (1, 596, 6664),\n",
       " (1, 596, 1371),\n",
       " (1, 608, 8138),\n",
       " (1, 608, 2405),\n",
       " (1, 608, 3895),\n",
       " (1, 608, 1129),\n",
       " (1, 648, 7445),\n",
       " (1, 648, 140481),\n",
       " (1, 648, 1372),\n",
       " (1, 648, 8183),\n",
       " (1, 661, 7102),\n",
       " (1, 661, 8743),\n",
       " (1, 661, 27036),\n",
       " (1, 661, 54734),\n",
       " (1, 673, 52435),\n",
       " (1, 673, 3953),\n",
       " (1, 673, 26528),\n",
       " (1, 673, 2573),\n",
       " (1, 733, 58972),\n",
       " (1, 733, 7007),\n",
       " (1, 733, 2537),\n",
       " (1, 733, 2149),\n",
       " (1, 736, 127323),\n",
       " (1, 736, 164881),\n",
       " (1, 736, 26587),\n",
       " (1, 736, 2000),\n",
       " (1, 780, 3034),\n",
       " (1, 780, 52042),\n",
       " (1, 780, 125974),\n",
       " (1, 780, 3682),\n",
       " (1, 804, 2417),\n",
       " (1, 804, 5064),\n",
       " (1, 804, 113207),\n",
       " (1, 804, 55805),\n",
       " (1, 919, 65982),\n",
       " (1, 919, 3494),\n",
       " (1, 919, 169034),\n",
       " (1, 919, 74275),\n",
       " (1, 923, 99415),\n",
       " (1, 923, 27306),\n",
       " (1, 923, 37720),\n",
       " (1, 923, 92938),\n",
       " (1, 940, 3937),\n",
       " (1, 940, 3307),\n",
       " (1, 940, 80572),\n",
       " (1, 940, 157407),\n",
       " (1, 943, 4916),\n",
       " (1, 943, 122882),\n",
       " (1, 943, 3306),\n",
       " (1, 943, 3396),\n",
       " (1, 954, 3086),\n",
       " (1, 954, 55112),\n",
       " (1, 954, 119218),\n",
       " (1, 954, 8782),\n",
       " (1, 1009, 72294),\n",
       " (1, 1009, 5389),\n",
       " (1, 1009, 78499),\n",
       " (1, 1009, 7212),\n",
       " (1, 1023, 170827),\n",
       " (1, 1023, 168090),\n",
       " (1, 1023, 4248),\n",
       " (1, 1023, 2949),\n",
       " (1, 1024, 3714),\n",
       " (1, 1024, 86835),\n",
       " (1, 1024, 94833),\n",
       " (1, 1024, 122888),\n",
       " (1, 1025, 4412),\n",
       " (1, 1025, 130576),\n",
       " (1, 1025, 40412),\n",
       " (1, 1025, 4404),\n",
       " (1, 1029, 102984),\n",
       " (1, 1029, 25962),\n",
       " (1, 1029, 1254),\n",
       " (1, 1029, 3525),\n",
       " (1, 1030, 8238),\n",
       " (1, 1030, 78105),\n",
       " (1, 1030, 69805),\n",
       " (1, 1030, 141799),\n",
       " (1, 1031, 1931),\n",
       " (1, 1031, 163925),\n",
       " (1, 1031, 106542),\n",
       " (1, 1031, 2531),\n",
       " (1, 1032, 170945),\n",
       " (1, 1032, 4886),\n",
       " (1, 1032, 93363),\n",
       " (1, 1032, 4025),\n",
       " (1, 1042, 90345),\n",
       " (1, 1042, 8633),\n",
       " (1, 1042, 4125),\n",
       " (1, 1042, 171023),\n",
       " (1, 1049, 4919),\n",
       " (1, 1049, 2749),\n",
       " (1, 1049, 1076),\n",
       " (1, 1049, 3462),\n",
       " (1, 1060, 718),\n",
       " (1, 1060, 95147),\n",
       " (1, 1060, 63222),\n",
       " (1, 1060, 5094),\n",
       " (1, 1073, 1228),\n",
       " (1, 1073, 1345),\n",
       " (1, 1073, 6797),\n",
       " (1, 1073, 5991),\n",
       " (1, 1080, 5804),\n",
       " (1, 1080, 176751),\n",
       " (1, 1080, 25937),\n",
       " (1, 1080, 79091),\n",
       " (1, 1089, 103755),\n",
       " (1, 1089, 172587),\n",
       " (1, 1089, 3699),\n",
       " (1, 1089, 1459),\n",
       " (1, 1090, 66915),\n",
       " (1, 1090, 3849),\n",
       " (1, 1090, 2354),\n",
       " (1, 1090, 168418),\n",
       " (1, 1092, 7991),\n",
       " (1, 1092, 7080),\n",
       " (1, 1092, 101612),\n",
       " (1, 1092, 175569),\n",
       " (1, 1097, 3992),\n",
       " (1, 1097, 42632),\n",
       " (1, 1097, 1223),\n",
       " (1, 1097, 131826),\n",
       " (1, 1127, 161290),\n",
       " (1, 1127, 4826),\n",
       " (1, 1127, 5951),\n",
       " (1, 1127, 27728),\n",
       " (1, 1136, 1208),\n",
       " (1, 1136, 1977),\n",
       " (1, 1136, 3702),\n",
       " (1, 1136, 54004),\n",
       " (1, 1196, 4228),\n",
       " (1, 1196, 86190),\n",
       " (1, 1196, 3070),\n",
       " (1, 1196, 26782),\n",
       " (1, 1197, 1012),\n",
       " (1, 1197, 6316),\n",
       " (1, 1197, 5609),\n",
       " (1, 1197, 639),\n",
       " (1, 1198, 61986),\n",
       " (1, 1198, 2275),\n",
       " (1, 1198, 155509),\n",
       " (1, 1198, 117176),\n",
       " (1, 1206, 7916),\n",
       " (1, 1206, 4646),\n",
       " (1, 1206, 6254),\n",
       " (1, 1206, 64575),\n",
       " (1, 1208, 26236),\n",
       " (1, 1208, 95182),\n",
       " (1, 1208, 70301),\n",
       " (1, 1208, 182793),\n",
       " (1, 1210, 6793),\n",
       " (1, 1210, 184349),\n",
       " (1, 1210, 49649),\n",
       " (1, 1210, 6853),\n",
       " (1, 1213, 7262),\n",
       " (1, 1213, 27692),\n",
       " (1, 1213, 2153),\n",
       " (1, 1213, 2807),\n",
       " (1, 1214, 63808),\n",
       " (1, 1214, 79008),\n",
       " (1, 1214, 179401),\n",
       " (1, 1214, 134368),\n",
       " (1, 1219, 27802),\n",
       " (1, 1219, 89072),\n",
       " (1, 1219, 1604),\n",
       " (1, 1219, 6615),\n",
       " (1, 1220, 31925),\n",
       " (1, 1220, 149330),\n",
       " (1, 1220, 27537),\n",
       " (1, 1220, 3414),\n",
       " (1, 1222, 110130),\n",
       " (1, 1222, 54780),\n",
       " (1, 1222, 152079),\n",
       " (1, 1222, 61160),\n",
       " (1, 1224, 91104),\n",
       " (1, 1224, 106927),\n",
       " (1, 1224, 5685),\n",
       " (1, 1224, 53318),\n",
       " (1, 1226, 85788),\n",
       " (1, 1226, 2670),\n",
       " (1, 1226, 108540),\n",
       " (1, 1226, 26745),\n",
       " (1, 1240, 31698),\n",
       " (1, 1240, 89745),\n",
       " (1, 1240, 1208),\n",
       " (1, 1240, 59814),\n",
       " (1, 1256, 44972),\n",
       " (1, 1256, 132454),\n",
       " (1, 1256, 119155),\n",
       " (1, 1256, 184253),\n",
       " (1, 1258, 180231),\n",
       " (1, 1258, 27660),\n",
       " (1, 1258, 59014),\n",
       " (1, 1258, 4789),\n",
       " (1, 1265, 1270),\n",
       " (1, 1265, 69306),\n",
       " (1, 1265, 2077),\n",
       " (1, 1265, 3019),\n",
       " (1, 1270, 7979),\n",
       " (1, 1270, 137595),\n",
       " (1, 1270, 2011),\n",
       " (1, 1270, 86298),\n",
       " (1, 1275, 840),\n",
       " (1, 1275, 3406),\n",
       " (1, 1275, 6936),\n",
       " (1, 1275, 36401),\n",
       " (1, 1278, 3557),\n",
       " (1, 1278, 179819),\n",
       " (1, 1278, 2156),\n",
       " (1, 1278, 3393),\n",
       " (1, 1282, 4941),\n",
       " (1, 1282, 2092),\n",
       " (1, 1282, 85412),\n",
       " (1, 1282, 1092),\n",
       " (1, 1291, 2505),\n",
       " (1, 1291, 55721),\n",
       " (1, 1291, 109042),\n",
       " (1, 1291, 6721),\n",
       " (1, 1298, 2099),\n",
       " (1, 1298, 138396),\n",
       " (1, 1298, 102666),\n",
       " (1, 1298, 2116),\n",
       " (1, 1348, 100498),\n",
       " (1, 1348, 67193),\n",
       " (1, 1348, 83976),\n",
       " (1, 1348, 8465),\n",
       " (1, 1377, 1007),\n",
       " (1, 1377, 105593),\n",
       " (1, 1377, 33201),\n",
       " (1, 1377, 2826),\n",
       " (1, 1396, 124273),\n",
       " (1, 1396, 7980),\n",
       " (1, 1396, 2521),\n",
       " (1, 1396, 1224),\n",
       " (1, 1408, 7360),\n",
       " (1, 1408, 52604),\n",
       " (1, 1408, 142550),\n",
       " (1, 1408, 1351),\n",
       " (1, 1445, 162578),\n",
       " (1, 1445, 40955),\n",
       " (1, 1445, 102338),\n",
       " (1, 1445, 53808),\n",
       " (1, 1473, 91542),\n",
       " (1, 1473, 143859),\n",
       " (1, 1473, 4079),\n",
       " (1, 1473, 3807),\n",
       " (1, 1500, 2525),\n",
       " (1, 1500, 105593),\n",
       " (1, 1500, 5378),\n",
       " (1, 1500, 2936),\n",
       " (1, 1517, 40851),\n",
       " (1, 1517, 3429),\n",
       " (1, 1517, 26399),\n",
       " (1, 1517, 180263),\n",
       " (1, 1552, 2103),\n",
       " (1, 1552, 64695),\n",
       " (1, 1552, 133782),\n",
       " (1, 1552, 7007),\n",
       " (1, 1573, 6934),\n",
       " (1, 1573, 66097),\n",
       " (1, 1573, 2330),\n",
       " (1, 1573, 152079),\n",
       " (1, 1580, 3440),\n",
       " (1, 1580, 6686),\n",
       " (1, 1580, 3264),\n",
       " (1, 1580, 1112),\n",
       " (1, 1587, 88744),\n",
       " (1, 1587, 94799),\n",
       " (1, 1587, 2046),\n",
       " (1, 1587, 4848),\n",
       " (1, 1617, 79357),\n",
       " (1, 1617, 5999),\n",
       " (1, 1617, 82852),\n",
       " (1, 1617, 3272),\n",
       " (1, 1620, 99764),\n",
       " (1, 1620, 42943),\n",
       " (1, 1620, 1381),\n",
       " (1, 1620, 91535),\n",
       " (1, 1625, 4424),\n",
       " (1, 1625, 8136),\n",
       " (1, 1625, 158872),\n",
       " (1, 1625, 144606),\n",
       " (1, 1644, 58404),\n",
       " (1, 1644, 8748),\n",
       " (1, 1644, 104780),\n",
       " (1, 1644, 3753),\n",
       " (1, 1676, 4231),\n",
       " (1, 1676, 4613),\n",
       " (1, 1676, 1807),\n",
       " (1, 1676, 43419),\n",
       " (1, 1732, 8977),\n",
       " (1, 1732, 8199),\n",
       " (1, 1732, 160080),\n",
       " (1, 1732, 3310),\n",
       " (1, 1777, 1064),\n",
       " (1, 1777, 907),\n",
       " (1, 1777, 2356),\n",
       " (1, 1777, 98604),\n",
       " (1, 1793, 1015),\n",
       " (1, 1793, 111785),\n",
       " (1, 1793, 1053),\n",
       " (1, 1793, 27708),\n",
       " (1, 1804, 85397),\n",
       " (1, 1804, 65088),\n",
       " (1, 1804, 5135),\n",
       " (1, 1804, 1240),\n",
       " (1, 1805, 27020),\n",
       " (1, 1805, 68848),\n",
       " (1, 1805, 132046),\n",
       " (1, 1805, 69134),\n",
       " (1, 1920, 8807),\n",
       " (1, 1920, 111663),\n",
       " (1, 1920, 1129),\n",
       " (1, 1920, 1453),\n",
       " (1, 1927, 43289),\n",
       " (1, 1927, 2024),\n",
       " (1, 1927, 40148),\n",
       " (1, 1927, 68791),\n",
       " (1, 1954, 136800),\n",
       " (1, 1954, 170945),\n",
       " (1, 1954, 3549),\n",
       " (1, 1954, 2542),\n",
       " (1, 1967, 4052),\n",
       " (1, 1967, 6858),\n",
       " (1, 1967, 67695),\n",
       " (1, 1967, 6527),\n",
       " (1, 2000, 4157),\n",
       " (1, 2000, 85399),\n",
       " (1, 2000, 8228),\n",
       " (1, 2000, 4240),\n",
       " (1, 2005, 1918),\n",
       " (1, 2005, 6541),\n",
       " (1, 2005, 81158),\n",
       " (1, 2005, 2057),\n",
       " (1, 2012, 26696),\n",
       " (1, 2012, 140289),\n",
       " (1, 2012, 41527),\n",
       " (1, 2012, 97024),\n",
       " (1, 2018, 108090),\n",
       " (1, 2018, 1999),\n",
       " (1, 2018, 83349),\n",
       " (1, 2018, 175435),\n",
       " (1, 2028, 6424),\n",
       " (1, 2028, 102590),\n",
       " (1, 2028, 85342),\n",
       " (1, 2028, 2038),\n",
       " (1, 2033, 26085),\n",
       " (1, 2033, 101525),\n",
       " (1, 2033, 151479),\n",
       " (1, 2033, 90945),\n",
       " (1, 2046, 47423),\n",
       " (1, 2046, 26870),\n",
       " (1, 2046, 6425),\n",
       " (1, 2046, 5486),\n",
       " (1, 2048, 165959),\n",
       " (1, 2048, 67695),\n",
       " (1, 2048, 87960),\n",
       " (1, 2048, 140956),\n",
       " (1, 2054, 4533),\n",
       " (1, 2054, 7235),\n",
       " (1, 2054, 7344),\n",
       " (1, 2054, 88932),\n",
       " (1, 2058, 152081),\n",
       " (1, 2058, 74624),\n",
       " (1, 2058, 3992),\n",
       " (1, 2058, 6659),\n",
       " (1, 2078, 5582),\n",
       " (1, 2078, 3693),\n",
       " (1, 2078, 2947),\n",
       " (1, 2078, 1965),\n",
       " (1, 2090, 32179),\n",
       " (1, 2090, 2706),\n",
       " (1, 2090, 71057),\n",
       " (1, 2090, 2402),\n",
       " (1, 2093, 147378),\n",
       " (1, 2093, 906),\n",
       " (1, 2093, 2107),\n",
       " (1, 2093, 4605),\n",
       " (1, 2094, 140359),\n",
       " (1, 2094, 72554),\n",
       " (1, 2094, 8253),\n",
       " (1, 2094, 68237),\n",
       " (1, 2096, 77561),\n",
       " (1, 2096, 7980),\n",
       " (1, 2096, 148881),\n",
       " (1, 2096, 60647),\n",
       " (1, 2099, 1465),\n",
       " (1, 2099, 1837),\n",
       " (1, 2099, 4396),\n",
       " (1, 2099, 43928),\n",
       " (1, 2105, 56915),\n",
       " (1, 2105, 7698),\n",
       " (1, 2105, 6143),\n",
       " (1, 2105, 27193),\n",
       " (1, 2115, 2751),\n",
       " (1, 2115, 56152),\n",
       " (1, 2115, 127198),\n",
       " (1, 2115, 48043),\n",
       " (1, 2116, 127323),\n",
       " (1, 2116, 4407),\n",
       " (1, 2116, 132153),\n",
       " (1, 2116, 78637),\n",
       " (1, 2137, 3609),\n",
       " (1, 2137, 91784),\n",
       " (1, 2137, 85020),\n",
       " (1, 2137, 130578),\n",
       " (1, 2139, 1055),\n",
       " (1, 2139, 7445),\n",
       " (1, 2139, 1261),\n",
       " (1, 2139, 63859),\n",
       " (1, 2141, 170399),\n",
       " (1, 2141, 88235),\n",
       " (1, 2141, 71252),\n",
       " (1, 2141, 137859),\n",
       " (1, 2143, 3008),\n",
       " (1, 2143, 5970),\n",
       " (1, 2143, 71468),\n",
       " (1, 2143, 1024),\n",
       " (1, 2161, 74282),\n",
       " (1, 2161, 7373),\n",
       " (1, 2161, 3715),\n",
       " (1, 2161, 170957),\n",
       " (1, 2174, 8804),\n",
       " (1, 2174, 61024),\n",
       " (1, 2174, 140850),\n",
       " (1, 2174, 138798),\n",
       " (1, 2193, 91094),\n",
       " (1, 2193, 101142),\n",
       " (1, 2193, 5882),\n",
       " (1, 2193, 3176),\n",
       " (1, 2253, 94494),\n",
       " (1, 2253, 2816),\n",
       " (1, 2253, 66310),\n",
       " (1, 2253, 95780),\n",
       " (1, 2268, 7835),\n",
       " (1, 2268, 1888),\n",
       " (1, 2268, 2376),\n",
       " (1, 2268, 1256),\n",
       " (1, 2273, 150554),\n",
       " (1, 2273, 7382),\n",
       " (1, 2273, 8782),\n",
       " (1, 2273, 44022),\n",
       " (1, 2291, 5419),\n",
       " (1, 2291, 1233),\n",
       " (1, 2291, 3649),\n",
       " (1, 2291, 1014),\n",
       " (1, 2329, 149830),\n",
       " (1, 2329, 6982),\n",
       " (1, 2329, 31420),\n",
       " (1, 2329, 2323),\n",
       " (1, 2338, 25946),\n",
       " (1, 2338, 152063),\n",
       " (1, 2338, 3157),\n",
       " (1, 2338, 4353),\n",
       " (1, 2353, 147380),\n",
       " (1, 2353, 4611),\n",
       " (1, 2353, 5300),\n",
       " (1, 2353, 2324),\n",
       " (1, 2366, 1047),\n",
       " (1, 2366, 7938),\n",
       " (1, 2366, 166291),\n",
       " (1, 2366, 880),\n",
       " (1, 2387, 88140),\n",
       " (1, 2387, 4290),\n",
       " (1, 2387, 26236),\n",
       " (1, 2387, 5508),\n",
       " (1, 2389, 61818),\n",
       " (1, 2389, 91542),\n",
       " (1, 2389, 7037),\n",
       " (1, 2389, 1513),\n",
       " (1, 2395, 2616),\n",
       " (1, 2395, 49389),\n",
       " (1, 2395, 1030),\n",
       " (1, 2395, 93320),\n",
       " (1, 2406, 5293),\n",
       " (1, 2406, 136449),\n",
       " (1, 2406, 979),\n",
       " (1, 2406, 142509),\n",
       " (1, 2414, 56152),\n",
       " (1, 2414, 59141),\n",
       " (1, 2414, 134861),\n",
       " (1, 2414, 98203),\n",
       " (1, 2427, 2531),\n",
       " (1, 2427, 49647),\n",
       " (1, 2427, 3489),\n",
       " (1, 2427, 3363),\n",
       " (1, 2450, 95875),\n",
       " (1, 2450, 8730),\n",
       " (1, 2450, 4310),\n",
       " (1, 2450, 40851),\n",
       " (1, 2459, 2993),\n",
       " (1, 2459, 2083),\n",
       " (1, 2459, 117176),\n",
       " (1, 2459, 65588),\n",
       " (1, 2470, 5882),\n",
       " (1, 2470, 43912),\n",
       " (1, 2470, 5283),\n",
       " (1, 2470, 2818),\n",
       " (1, 2478, 1464),\n",
       " (1, 2478, 67888),\n",
       " (1, 2478, 4007),\n",
       " (1, 2478, 1582),\n",
       " (1, 2492, 103341),\n",
       " (1, 2492, 130842),\n",
       " (1, 2492, 62792),\n",
       " (1, 2492, 6316),\n",
       " (1, 2502, 2793),\n",
       " (1, 2502, 3675),\n",
       " (1, 2502, 7282),\n",
       " (1, 2502, 1022),\n",
       " (1, 2528, 6196),\n",
       " (1, 2528, 4452),\n",
       " (1, 2528, 3454),\n",
       " (1, 2528, 7657),\n",
       " (1, 2529, 3986),\n",
       " (1, 2529, 3032),\n",
       " (1, 2529, 1224),\n",
       " (1, 2529, 8782),\n",
       " (1, 2542, 26871),\n",
       " (1, 2542, 130842),\n",
       " (1, 2542, 110130),\n",
       " (1, 2542, 2892),\n",
       " (1, 2571, 3889),\n",
       " (1, 2571, 7373),\n",
       " (1, 2571, 1835),\n",
       " (1, 2571, 8948),\n",
       " (1, 2580, 7034),\n",
       " (1, 2580, 50005),\n",
       " (1, 2580, 8373),\n",
       " (1, 2580, 47610),\n",
       " (1, 2596, 1050),\n",
       " (1, 2596, 2989),\n",
       " (1, 2596, 85179),\n",
       " (1, 2596, 103801),\n",
       " (1, 2616, 8362),\n",
       " (1, 2616, 1372),\n",
       " (1, 2616, 6313),\n",
       " (1, 2616, 2290),\n",
       " (1, 2617, 173351),\n",
       " (1, 2617, 3788),\n",
       " (1, 2617, 7835),\n",
       " (1, 2617, 78499),\n",
       " (1, 2628, 8169),\n",
       " (1, 2628, 7573),\n",
       " (1, 2628, 1208),\n",
       " (1, 2628, 104644),\n",
       " (1, 2640, 3040),\n",
       " (1, 2640, 2108),\n",
       " (1, 2640, 84637),\n",
       " (1, 2640, 3658),\n",
       " (1, 2641, 7569),\n",
       " (1, 2641, 71732),\n",
       " (1, 2641, 2815),\n",
       " (1, 2641, 8493),\n",
       " (1, 2644, 72692),\n",
       " (1, 2644, 103341),\n",
       " (1, 2644, 98961),\n",
       " (1, 2644, 3675),\n",
       " (1, 2648, 5504),\n",
       " (1, 2648, 90576),\n",
       " (1, 2648, 179491),\n",
       " (1, 2648, 4796),\n",
       " (1, 2654, 3283),\n",
       " (1, 2654, 3181),\n",
       " (1, 2654, 101362),\n",
       " (1, 2654, 2055),\n",
       " (1, 2657, 89759),\n",
       " (1, 2657, 6286),\n",
       " (1, 2657, 132618),\n",
       " (1, 2657, 34334),\n",
       " (1, 2692, 3745),\n",
       " (1, 2692, 78772),\n",
       " (1, 2692, 7137),\n",
       " (1, 2692, 37729),\n",
       " (1, 2700, 3914),\n",
       " (1, 2700, 63312),\n",
       " (1, 2700, 121007),\n",
       " (1, 2700, 7027),\n",
       " (1, 2716, 99005),\n",
       " (1, 2716, 8574),\n",
       " (1, 2716, 3467),\n",
       " (1, 2716, 3837),\n",
       " (1, 2761, 49272),\n",
       " (1, 2761, 5442),\n",
       " (1, 2761, 6536),\n",
       " (1, 2761, 69685),\n",
       " (1, 2797, 2048),\n",
       " (1, 2797, 3474),\n",
       " (1, 2797, 43549),\n",
       " (1, 2797, 54004),\n",
       " (1, 2826, 61026),\n",
       " (1, 2826, 808),\n",
       " (1, 2826, 69278),\n",
       " (1, 2826, 6566),\n",
       " (1, 2858, 2539),\n",
       " (1, 2858, 6686),\n",
       " (1, 2858, 2159),\n",
       " (1, 2858, 141749),\n",
       " (1, 2872, 2952),\n",
       " (1, 2872, 26928),\n",
       " (1, 2872, 48412),\n",
       " (1, 2872, 2139),\n",
       " (1, 2899, 2193),\n",
       " (1, 2899, 2533),\n",
       " (1, 2899, 71264),\n",
       " (1, 2899, 58103),\n",
       " (1, 2916, 130686),\n",
       " (1, 2916, 3716),\n",
       " (1, 2916, 7657),\n",
       " (1, 2916, 101962),\n",
       " (1, 2944, 136341),\n",
       " (1, 2944, 120466),\n",
       " (1, 2944, 3034),\n",
       " (1, 2944, 128908),\n",
       " (1, 2947, 70305),\n",
       " (1, 2947, 3157),\n",
       " (1, 2947, 1609),\n",
       " (1, 2947, 72998),\n",
       " (1, 2948, 8293),\n",
       " (1, 2948, 5108),\n",
       " (1, 2948, 7118),\n",
       " (1, 2948, 8016),\n",
       " (1, 2949, 43921),\n",
       " (1, 2949, 71745),\n",
       " (1, 2949, 7646),\n",
       " (1, 2949, 4610),\n",
       " (1, 2959, 4323),\n",
       " (1, 2959, 103596),\n",
       " (1, 2959, 122886),\n",
       " (1, 2959, 1770),\n",
       " (1, 2985, 8832),\n",
       " (1, 2985, 120466),\n",
       " (1, 2985, 140247),\n",
       " (1, 2985, 1582),\n",
       " (1, 2987, 2764),\n",
       " (1, 2987, 741),\n",
       " (1, 2987, 32009),\n",
       " (1, 2987, 26542),\n",
       " (1, 2991, 172793),\n",
       " (1, 2991, 59604),\n",
       " (1, 2991, 2149),\n",
       " (1, 2991, 92730),\n",
       " (1, 2993, 3649),\n",
       " (1, 2993, 139859),\n",
       " (1, 2993, 74342),\n",
       " (1, 2993, 7390),\n",
       " (1, 2997, 1948),\n",
       " (1, 2997, 4195),\n",
       " (1, 2997, 87222),\n",
       " (1, 2997, 63853),\n",
       " (1, 3033, 6882),\n",
       " (1, 3033, 6631),\n",
       " (1, 3033, 1490),\n",
       " (1, 3033, 3257),\n",
       " (1, 3034, 2050),\n",
       " (1, 3034, 4142),\n",
       " (1, 3034, 5463),\n",
       " (1, 3034, 6857),\n",
       " (1, 3052, 107951),\n",
       " (1, 3052, 5316),\n",
       " (1, 3052, 63826),\n",
       " (1, 3052, 3567),\n",
       " (1, 3053, 60937),\n",
       " (1, 3053, 130490),\n",
       " (1, 3053, 163112),\n",
       " (1, 3053, 1918),\n",
       " (1, 3062, 140481),\n",
       " (1, 3062, 6982),\n",
       " (1, 3062, 113207),\n",
       " (1, 3062, 58303),\n",
       " (1, 3147, 780),\n",
       " (1, 3147, 2765),\n",
       " (1, 3147, 876),\n",
       " (1, 3147, 105720),\n",
       " (1, 3168, 5745),\n",
       " (1, 3168, 26391),\n",
       " (1, 3168, 1406),\n",
       " (1, 3168, 50613),\n",
       " (1, 3176, 6155),\n",
       " (1, 3176, 3434),\n",
       " (1, 3176, 8266),\n",
       " (1, 3176, 7262),\n",
       " (1, 3243, 724),\n",
       " (1, 3243, 110286),\n",
       " (1, 3243, 6422),\n",
       " (1, 3243, 115111),\n",
       " (1, 3247, 54001),\n",
       " (1, 3247, 2885),\n",
       " (1, 3247, 164707),\n",
       " (1, 3247, 2415),\n",
       " (1, 3253, 4369),\n",
       " (1, 3253, 33126),\n",
       " (1, 3253, 70521),\n",
       " (1, 3253, 2439),\n",
       " (1, 3273, 138835),\n",
       " (1, 3273, 109191),\n",
       " (1, 3273, 64716),\n",
       " (1, 3273, 79879),\n",
       " (1, 3386, 919),\n",
       " (1, 3386, 170945),\n",
       " (1, 3386, 5974),\n",
       " (1, 3386, 7569),\n",
       " (1, 3439, 1214),\n",
       " (1, 3439, 146730),\n",
       " (1, 3439, 5219),\n",
       " (1, 3439, 162578),\n",
       " (1, 3440, 34048),\n",
       " (1, 3440, 1372),\n",
       " (1, 3440, 172887),\n",
       " (1, 3440, 52462),\n",
       " (1, 3441, 2096),\n",
       " (1, 3441, 85397),\n",
       " (1, 3441, 95163),\n",
       " (1, 3441, 31698),\n",
       " (1, 3448, 51709),\n",
       " (1, 3448, 6021),\n",
       " (1, 3448, 8957),\n",
       " (1, 3448, 8596),\n",
       " (1, 3450, 77931),\n",
       " (1, 3450, 74868),\n",
       " (1, 3450, 7707),\n",
       " (1, 3450, 33004),\n",
       " (1, 3479, 85510),\n",
       " (1, 3479, 34319),\n",
       " (1, 3479, 30793),\n",
       " (1, 3479, 50440),\n",
       " (1, 3489, 6273),\n",
       " (1, 3489, 32031),\n",
       " (1, 3489, 57526),\n",
       " (1, 3489, 4890),\n",
       " (1, 3527, 2232),\n",
       " (1, 3527, 5048),\n",
       " (1, 3527, 44243),\n",
       " (1, 3527, 3572),\n",
       " (1, 3578, 5991),\n",
       " (1, 3578, 6316),\n",
       " (1, 3578, 60803),\n",
       " (1, 3578, 60516),\n",
       " (1, 3617, 5733),\n",
       " (1, 3617, 1262),\n",
       " (1, 3617, 3052),\n",
       " (1, 3617, 72737),\n",
       " (1, 3639, 2103),\n",
       " (1, 3639, 2808),\n",
       " (1, 3639, 26593),\n",
       " (1, 3639, 55995),\n",
       " (1, 3671, 89028),\n",
       " (1, 3671, 46967),\n",
       " (1, 3671, 193587),\n",
       " (1, 3671, 82242),\n",
       " (1, 3702, 2561),\n",
       " (1, 3702, 2024),\n",
       " (1, 3702, 59014),\n",
       " (1, 3702, 5425),\n",
       " (1, 3703, 1029),\n",
       " (1, 3703, 2924),\n",
       " (1, 3703, 36509),\n",
       " (1, 3703, 6186),\n",
       " (1, 3729, 119155),\n",
       " (1, 3729, 47538),\n",
       " (1, 3729, 69481),\n",
       " (1, 3729, 99437),\n",
       " (1, 3740, 982),\n",
       " (1, 3740, 3020),\n",
       " (1, 3740, 122926),\n",
       " (1, 3740, 3264),\n",
       " (1, 3744, 7569),\n",
       " (1, 3744, 6548),\n",
       " (1, 3744, 3591),\n",
       " (1, 3744, 2919),\n",
       " (1, 3793, 108795),\n",
       " (1, 3793, 5479),\n",
       " (1, 3793, 181413),\n",
       " (1, 3793, 7336),\n",
       " (1, 3809, 102760),\n",
       " (1, 3809, 160646),\n",
       " (1, 3809, 58876),\n",
       " (1, 3809, 4350),\n",
       " (1, 4006, 89586),\n",
       " (1, 4006, 1022),\n",
       " (1, 4006, 161594),\n",
       " (1, 4006, 117887),\n",
       " (2, 318, 158882),\n",
       " (2, 318, 65802),\n",
       " (2, 318, 93040),\n",
       " (2, 318, 7328),\n",
       " (2, 333, 118326),\n",
       " (2, 333, 85056),\n",
       " (2, 333, 1658),\n",
       " (2, 333, 5424),\n",
       " (2, 1704, 135456),\n",
       " (2, 1704, 135534),\n",
       " (2, 1704, 27480),\n",
       " (2, 1704, 40966),\n",
       " (2, 3578, 6934),\n",
       " (2, 3578, 3505),\n",
       " (2, 3578, 5471),\n",
       " (2, 3578, 27899),\n",
       " (2, 6874, 1199),\n",
       " (2, 6874, 99917),\n",
       " (2, 6874, 87234),\n",
       " (2, 6874, 51662),\n",
       " (2, 8798, 72737),\n",
       " (2, 8798, 71838),\n",
       " (2, 8798, 112552),\n",
       " (2, 8798, 173751),\n",
       " (2, 46970, 8778),\n",
       " (2, 46970, 5720),\n",
       " (2, 46970, 3442),\n",
       " (2, 46970, 46965),\n",
       " (2, 48516, 7018),\n",
       " (2, 48516, 987),\n",
       " (2, 48516, 5328),\n",
       " (2, 48516, 1370),\n",
       " (2, 58559, 61026),\n",
       " (2, 58559, 43419),\n",
       " (2, 58559, 92198),\n",
       " (2, 58559, 2297),\n",
       " (2, 60756, 4787),\n",
       " (2, 60756, 72104),\n",
       " (2, 60756, 26614),\n",
       " (2, 60756, 7840),\n",
       " (2, 68157, 6939),\n",
       " (2, 68157, 54185),\n",
       " (2, 68157, 8125),\n",
       " (2, 68157, 97988),\n",
       " (2, 71535, 1411),\n",
       " (2, 71535, 111551),\n",
       " (2, 71535, 5016),\n",
       " (2, 71535, 1021),\n",
       " (2, 74458, 111759),\n",
       " (2, 74458, 102066),\n",
       " (2, 74458, 55872),\n",
       " (2, 74458, 89753),\n",
       " (2, 77455, 1682),\n",
       " (2, 77455, 72167),\n",
       " (2, 77455, 104141),\n",
       " (2, 77455, 80463),\n",
       " (2, 79132, 3706),\n",
       " (2, 79132, 4355),\n",
       " (2, 79132, 1274),\n",
       " (2, 79132, 32392),\n",
       " (2, 80489, 3700),\n",
       " (2, 80489, 1944),\n",
       " (2, 80489, 133780),\n",
       " (2, 80489, 3914),\n",
       " (2, 80906, 110127),\n",
       " (2, 80906, 4353),\n",
       " (2, 80906, 50147),\n",
       " (2, 80906, 2987),\n",
       " (2, 86345, 72601),\n",
       " (2, 86345, 1785),\n",
       " (2, 86345, 86880),\n",
       " (2, 86345, 3830),\n",
       " (2, 89774, 130050),\n",
       " (2, 89774, 67508),\n",
       " (2, 89774, 111759),\n",
       " (2, 89774, 95105),\n",
       " ...]"
      ]
     },
     "execution_count": 56,
     "metadata": {},
     "output_type": "execute_result"
    }
   ],
   "source": [
    "topic_weighted_training_data"
   ]
  },
  {
   "cell_type": "code",
   "execution_count": 57,
   "metadata": {},
   "outputs": [],
   "source": [
    "#topic_testing_data[1]"
   ]
  },
  {
   "cell_type": "code",
   "execution_count": 58,
   "metadata": {},
   "outputs": [],
   "source": [
    "temp_list = []\n",
    "for tp in topic_weighted_training_data:\n",
    "    temp_list.append((tp[0], item_look_up_table[tp[1]], item_look_up_table[tp[2]]))\n",
    "topic_weighted_training_data = temp_list"
   ]
  },
  {
   "cell_type": "code",
   "execution_count": 59,
   "metadata": {},
   "outputs": [],
   "source": [
    "temp_list = []\n",
    "for re in topic_reverse_weighted_training_data:\n",
    "    temp_list.append((re[0], item_look_up_table[re[1]], item_look_up_table[re[2]]))\n",
    "topic_reverse_weighted_training_data = temp_list"
   ]
  },
  {
   "cell_type": "code",
   "execution_count": 60,
   "metadata": {},
   "outputs": [],
   "source": [
    "temp_dict = {}\n",
    "for user in topic_testing_data:\n",
    "    #print(user)\n",
    "    temp_list = []\n",
    "    for t in topic_testing_data[user]:\n",
    "        temp_list.append(item_look_up_table[t])\n",
    "    temp_dict[user] = temp_list\n",
    "    temp_list = []\n",
    "\n",
    "topic_testing_data = temp_dict"
   ]
  },
  {
   "cell_type": "code",
   "execution_count": 61,
   "metadata": {},
   "outputs": [],
   "source": [
    "temp_dict = {}\n",
    "for user in topic_reverse_testing_data:\n",
    "    #print(user)\n",
    "    temp_list = []\n",
    "    for t in topic_reverse_testing_data[user]:\n",
    "        temp_list.append(item_look_up_table[t])\n",
    "    temp_dict[user] = temp_list\n",
    "    temp_list = []\n",
    "\n",
    "topic_reverse_testing_data = temp_dict"
   ]
  },
  {
   "cell_type": "code",
   "execution_count": 62,
   "metadata": {},
   "outputs": [],
   "source": [
    "#topic_weighted_training_data"
   ]
  },
  {
   "cell_type": "code",
   "execution_count": 63,
   "metadata": {},
   "outputs": [],
   "source": [
    "with open('./processed_data/ml_latest_'+time+'_weighted_training'+'.pkl', 'wb') as f:\n",
    "    pk.dump(topic_weighted_training_data, f)"
   ]
  },
  {
   "cell_type": "code",
   "execution_count": 64,
   "metadata": {},
   "outputs": [],
   "source": [
    "with open('./processed_data/ml_latest_'+time+'_reverse_weighted_training'+'.pkl', 'wb') as f:\n",
    "    pk.dump(topic_reverse_weighted_training_data, f)"
   ]
  },
  {
   "cell_type": "code",
   "execution_count": 65,
   "metadata": {},
   "outputs": [],
   "source": [
    "with open('./processed_data/ml_latest_'+time+'_weighted_testing'+'.pkl', 'wb') as f:\n",
    "    pk.dump(topic_testing_data, f)\n",
    "\n",
    "with open('./processed_data/ml_latest_'+time+'_reverse_weighted_testing'+'.pkl', 'wb') as f:\n",
    "    pk.dump(topic_reverse_testing_data, f)\n",
    "    "
   ]
  },
  {
   "cell_type": "code",
   "execution_count": 66,
   "metadata": {},
   "outputs": [],
   "source": [
    "new_dict = {}\n",
    "temp = []\n",
    "for k, v in genres_item_dict.items():\n",
    "    new_dict[k] = [item_look_up_table[x] for x in v]"
   ]
  },
  {
   "cell_type": "code",
   "execution_count": 67,
   "metadata": {},
   "outputs": [],
   "source": [
    "#new_dict"
   ]
  },
  {
   "cell_type": "code",
   "execution_count": 68,
   "metadata": {},
   "outputs": [],
   "source": [
    "def check_distribution(genres_item_dict, training_data, all_genres):\n",
    "    len_list = []\n",
    "    max_num = 0\n",
    "    user_dis_list = []\n",
    "    user_genres_list = [0]*len(all_genres)\n",
    "     \n",
    "    start = 1\n",
    "    for train_pair in training_data:\n",
    "        if train_pair[0] > 610 :\n",
    "            break\n",
    "        if train_pair[0] == start:\n",
    "            max_num += 1\n",
    "            for g in genres_item_dict:\n",
    "                if train_pair[2] in genres_item_dict[g]:\n",
    "                    user_genres_list[all_genres.index(g)] = user_genres_list[all_genres.index(g)] + 1\n",
    "            if train_pair[0] == 610:\n",
    "                print(start)\n",
    "                start += 1\n",
    "                len_list.append(max_num)\n",
    "                temp_list = [x/max_num for x in user_genres_list]\n",
    "                user_dis_list.append(temp_list)\n",
    "                temp_list = []\n",
    "                user_genres_list = [0]*len(all_genres)\n",
    "                max_num = 0\n",
    "        else:\n",
    "            print(start, end=\", \")\n",
    "            start += 1\n",
    "            len_list.append(max_num)\n",
    "            temp_list = [x/max_num for x in user_genres_list]\n",
    "            user_dis_list.append(temp_list)\n",
    "            temp_list = []\n",
    "            user_genres_list = [0]*len(all_genres)\n",
    "            max_num = 0\n",
    "       \n",
    "    return user_dis_list"
   ]
  },
  {
   "cell_type": "code",
   "execution_count": 69,
   "metadata": {},
   "outputs": [
    {
     "name": "stdout",
     "output_type": "stream",
     "text": [
      "1, 2, 3, 4, 5, 6, 7, 8, 9, 10, 11, 12, 13, 14, 15, 16, 17, 18, 19, 20, 21, 22, 23, 24, 25, 26, 27, 28, 29, 30, 31, 32, 33, 34, 35, 36, 37, 38, 39, 40, 41, 42, 43, 44, 45, 46, 47, 48, 49, 50, 51, 52, 53, 54, 55, 56, 57, 58, 59, 60, 61, 62, 63, 64, 65, 66, 67, 68, 69, 70, 71, 72, 73, 74, 75, 76, 77, 78, 79, 80, 81, 82, 83, 84, 85, 86, 87, 88, 89, 90, 91, 92, 93, 94, 95, 96, 97, 98, 99, 100, 101, 102, 103, 104, 105, 106, 107, 108, 109, 110, 111, 112, 113, 114, 115, 116, 117, 118, 119, 120, 121, 122, 123, 124, 125, 126, 127, 128, 129, 130, 131, 132, 133, 134, 135, 136, 137, 138, 139, 140, 141, 142, 143, 144, 145, 146, 147, 148, 149, 150, 151, 152, 153, 154, 155, 156, 157, 158, 159, 160, 161, 162, 163, 164, 165, 166, 167, 168, 169, 170, 171, 172, 173, 174, 175, 176, 177, 178, 179, 180, 181, 182, 183, 184, 185, 186, 187, 188, 189, 190, 191, 192, 193, 194, 195, 196, 197, 198, 199, 200, 201, 202, 203, 204, 205, 206, 207, 208, 209, 210, 211, 212, 213, 214, 215, 216, 217, 218, 219, 220, 221, 222, 223, 224, 225, 226, 227, 228, 229, 230, 231, 232, 233, 234, 235, 236, 237, 238, 239, 240, 241, 242, 243, 244, 245, 246, 247, 248, 249, 250, 251, 252, 253, 254, 255, 256, 257, 258, 259, 260, 261, 262, 263, 264, 265, 266, 267, 268, 269, 270, 271, 272, 273, 274, 275, 276, 277, 278, 279, 280, 281, 282, 283, 284, 285, 286, 287, 288, 289, 290, 291, 292, 293, 294, 295, 296, 297, 298, 299, 300, 301, 302, 303, 304, 305, 306, 307, 308, 309, 310, 311, 312, 313, 314, 315, 316, 317, 318, 319, 320, 321, 322, 323, 324, 325, 326, 327, 328, 329, 330, 331, 332, 333, 334, 335, 336, 337, 338, 339, 340, 341, 342, 343, 344, 345, 346, 347, 348, 349, 350, 351, 352, 353, 354, 355, 356, 357, 358, 359, 360, 361, 362, 363, 364, 365, 366, 367, 368, 369, 370, 371, 372, 373, 374, 375, 376, 377, 378, 379, 380, 381, 382, 383, 384, 385, 386, 387, 388, 389, 390, 391, 392, 393, 394, 395, 396, 397, 398, 399, 400, 401, 402, 403, 404, 405, 406, 407, 408, 409, 410, 411, 412, 413, 414, 415, 416, 417, 418, 419, 420, 421, 422, 423, 424, 425, 426, 427, 428, 429, 430, 431, 432, 433, 434, 435, 436, 437, 438, 439, 440, 441, 442, 443, 444, 445, 446, 447, 448, 449, 450, 451, 452, 453, 454, 455, 456, 457, 458, 459, 460, 461, 462, 463, 464, 465, 466, 467, 468, 469, 470, 471, 472, 473, 474, 475, 476, 477, 478, 479, 480, 481, 482, 483, 484, 485, 486, 487, 488, 489, 490, 491, 492, 493, 494, 495, 496, 497, 498, 499, 500, 501, 502, 503, 504, 505, 506, 507, 508, 509, 510, 511, 512, 513, 514, 515, 516, 517, 518, 519, 520, 521, 522, 523, 524, 525, 526, 527, 528, 529, 530, 531, 532, 533, 534, 535, 536, 537, 538, 539, 540, 541, 542, 543, 544, 545, 546, 547, 548, 549, 550, 551, 552, 553, 554, 555, 556, 557, 558, 559, 560, 561, 562, 563, 564, 565, 566, 567, 568, 569, 570, 571, 572, 573, 574, 575, 576, 577, 578, 579, 580, 581, 582, 583, 584, 585, 586, 587, 588, 589, 590, 591, 592, 593, 594, 595, 596, 597, 598, 599, 600, 601, 602, 603, 604, 605, 606, 607, 608, 609, 610\n",
      "611, "
     ]
    },
    {
     "ename": "ZeroDivisionError",
     "evalue": "division by zero",
     "output_type": "error",
     "traceback": [
      "\u001b[0;31m---------------------------------------------------------------------------\u001b[0m",
      "\u001b[0;31mZeroDivisionError\u001b[0m                         Traceback (most recent call last)",
      "\u001b[0;32m<ipython-input-69-494f9253a730>\u001b[0m in \u001b[0;36m<module>\u001b[0;34m\u001b[0m\n\u001b[0;32m----> 1\u001b[0;31m \u001b[0mrandom_distribution\u001b[0m \u001b[0;34m=\u001b[0m \u001b[0mcheck_distribution\u001b[0m\u001b[0;34m(\u001b[0m\u001b[0mnew_dict\u001b[0m\u001b[0;34m,\u001b[0m \u001b[0mrandom_training_data\u001b[0m\u001b[0;34m,\u001b[0m \u001b[0mall_genres\u001b[0m\u001b[0;34m)\u001b[0m\u001b[0;34m\u001b[0m\u001b[0m\n\u001b[0m\u001b[1;32m      2\u001b[0m \u001b[0mtopic_distribution\u001b[0m \u001b[0;34m=\u001b[0m \u001b[0mcheck_distribution\u001b[0m\u001b[0;34m(\u001b[0m\u001b[0mnew_dict\u001b[0m\u001b[0;34m,\u001b[0m \u001b[0mtopic_weighted_training_data\u001b[0m\u001b[0;34m,\u001b[0m \u001b[0mall_genres\u001b[0m\u001b[0;34m)\u001b[0m\u001b[0;34m\u001b[0m\u001b[0m\n",
      "\u001b[0;32m<ipython-input-68-033a6e9b00bd>\u001b[0m in \u001b[0;36mcheck_distribution\u001b[0;34m(genres_item_dict, training_data, all_genres)\u001b[0m\n\u001b[1;32m     27\u001b[0m             \u001b[0mstart\u001b[0m \u001b[0;34m+=\u001b[0m \u001b[0;36m1\u001b[0m\u001b[0;34m\u001b[0m\u001b[0m\n\u001b[1;32m     28\u001b[0m             \u001b[0mlen_list\u001b[0m\u001b[0;34m.\u001b[0m\u001b[0mappend\u001b[0m\u001b[0;34m(\u001b[0m\u001b[0mmax_num\u001b[0m\u001b[0;34m)\u001b[0m\u001b[0;34m\u001b[0m\u001b[0m\n\u001b[0;32m---> 29\u001b[0;31m             \u001b[0mtemp_list\u001b[0m \u001b[0;34m=\u001b[0m \u001b[0;34m[\u001b[0m\u001b[0mx\u001b[0m\u001b[0;34m/\u001b[0m\u001b[0mmax_num\u001b[0m \u001b[0;32mfor\u001b[0m \u001b[0mx\u001b[0m \u001b[0;32min\u001b[0m \u001b[0muser_genres_list\u001b[0m\u001b[0;34m]\u001b[0m\u001b[0;34m\u001b[0m\u001b[0m\n\u001b[0m\u001b[1;32m     30\u001b[0m             \u001b[0muser_dis_list\u001b[0m\u001b[0;34m.\u001b[0m\u001b[0mappend\u001b[0m\u001b[0;34m(\u001b[0m\u001b[0mtemp_list\u001b[0m\u001b[0;34m)\u001b[0m\u001b[0;34m\u001b[0m\u001b[0m\n\u001b[1;32m     31\u001b[0m             \u001b[0mtemp_list\u001b[0m \u001b[0;34m=\u001b[0m \u001b[0;34m[\u001b[0m\u001b[0;34m]\u001b[0m\u001b[0;34m\u001b[0m\u001b[0m\n",
      "\u001b[0;32m<ipython-input-68-033a6e9b00bd>\u001b[0m in \u001b[0;36m<listcomp>\u001b[0;34m(.0)\u001b[0m\n\u001b[1;32m     27\u001b[0m             \u001b[0mstart\u001b[0m \u001b[0;34m+=\u001b[0m \u001b[0;36m1\u001b[0m\u001b[0;34m\u001b[0m\u001b[0m\n\u001b[1;32m     28\u001b[0m             \u001b[0mlen_list\u001b[0m\u001b[0;34m.\u001b[0m\u001b[0mappend\u001b[0m\u001b[0;34m(\u001b[0m\u001b[0mmax_num\u001b[0m\u001b[0;34m)\u001b[0m\u001b[0;34m\u001b[0m\u001b[0m\n\u001b[0;32m---> 29\u001b[0;31m             \u001b[0mtemp_list\u001b[0m \u001b[0;34m=\u001b[0m \u001b[0;34m[\u001b[0m\u001b[0mx\u001b[0m\u001b[0;34m/\u001b[0m\u001b[0mmax_num\u001b[0m \u001b[0;32mfor\u001b[0m \u001b[0mx\u001b[0m \u001b[0;32min\u001b[0m \u001b[0muser_genres_list\u001b[0m\u001b[0;34m]\u001b[0m\u001b[0;34m\u001b[0m\u001b[0m\n\u001b[0m\u001b[1;32m     30\u001b[0m             \u001b[0muser_dis_list\u001b[0m\u001b[0;34m.\u001b[0m\u001b[0mappend\u001b[0m\u001b[0;34m(\u001b[0m\u001b[0mtemp_list\u001b[0m\u001b[0;34m)\u001b[0m\u001b[0;34m\u001b[0m\u001b[0m\n\u001b[1;32m     31\u001b[0m             \u001b[0mtemp_list\u001b[0m \u001b[0;34m=\u001b[0m \u001b[0;34m[\u001b[0m\u001b[0;34m]\u001b[0m\u001b[0;34m\u001b[0m\u001b[0m\n",
      "\u001b[0;31mZeroDivisionError\u001b[0m: division by zero"
     ]
    }
   ],
   "source": [
    "random_distribution = check_distribution(new_dict, random_training_data, all_genres)\n",
    "topic_distribution = check_distribution(new_dict, topic_weighted_training_data, all_genres)"
   ]
  },
  {
   "cell_type": "code",
   "execution_count": null,
   "metadata": {},
   "outputs": [],
   "source": [
    "\n",
    "re_topic_distribution = check_distribution(new_dict, topic_reverse_weighted_training_data, all_genres)"
   ]
  },
  {
   "cell_type": "code",
   "execution_count": null,
   "metadata": {},
   "outputs": [],
   "source": [
    "for i in range(len(all_genres)):\n",
    "    print(all_genres[i], end=',\\t\\t\\t')\n",
    "    print(user_distribution_list[0][i], end=',\\t\\t\\t')\n",
    "    print(random_distribution[0][i], end=',\\t\\t\\t')\n",
    "    print(topic_distribution[0][i])"
   ]
  },
  {
   "cell_type": "code",
   "execution_count": null,
   "metadata": {},
   "outputs": [],
   "source": [
    "random_distribution[0]"
   ]
  },
  {
   "cell_type": "code",
   "execution_count": null,
   "metadata": {},
   "outputs": [],
   "source": [
    "topic_distribution"
   ]
  },
  {
   "cell_type": "code",
   "execution_count": null,
   "metadata": {},
   "outputs": [],
   "source": [
    "sns.heatmap(random_distribution, vmin=0, vmax = 1)"
   ]
  },
  {
   "cell_type": "code",
   "execution_count": null,
   "metadata": {},
   "outputs": [],
   "source": [
    "sns.heatmap(topic_distribution, vmin=0, vmax = 1)"
   ]
  },
  {
   "cell_type": "code",
   "execution_count": null,
   "metadata": {},
   "outputs": [],
   "source": [
    "sns.heatmap(re_topic_distribution, vmin=0, vmax=1)"
   ]
  },
  {
   "cell_type": "markdown",
   "metadata": {},
   "source": [
    "## Topic Clustering "
   ]
  },
  {
   "cell_type": "code",
   "execution_count": null,
   "metadata": {},
   "outputs": [],
   "source": [
    "from sklearn.cluster import KMeans"
   ]
  },
  {
   "cell_type": "code",
   "execution_count": null,
   "metadata": {},
   "outputs": [],
   "source": [
    "len(random_distribution)"
   ]
  },
  {
   "cell_type": "code",
   "execution_count": null,
   "metadata": {},
   "outputs": [],
   "source": [
    "topic_dis_np = np.array(topic_distribution)"
   ]
  },
  {
   "cell_type": "code",
   "execution_count": null,
   "metadata": {},
   "outputs": [],
   "source": [
    "kmeans = KMeans(n_clusters=10, random_state=0).fit(topic_dis_np)"
   ]
  },
  {
   "cell_type": "code",
   "execution_count": null,
   "metadata": {},
   "outputs": [],
   "source": [
    "kmeans.labels_"
   ]
  },
  {
   "cell_type": "code",
   "execution_count": null,
   "metadata": {},
   "outputs": [],
   "source": []
  }
 ],
 "metadata": {
  "kernelspec": {
   "display_name": "Python 3",
   "language": "python",
   "name": "python3"
  },
  "language_info": {
   "codemirror_mode": {
    "name": "ipython",
    "version": 3
   },
   "file_extension": ".py",
   "mimetype": "text/x-python",
   "name": "python",
   "nbconvert_exporter": "python",
   "pygments_lexer": "ipython3",
   "version": "3.5.5"
  }
 },
 "nbformat": 4,
 "nbformat_minor": 2
}
